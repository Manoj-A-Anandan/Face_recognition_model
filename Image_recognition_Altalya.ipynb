{
  "nbformat": 4,
  "nbformat_minor": 0,
  "metadata": {
    "colab": {
      "provenance": [],
      "gpuType": "T4"
    },
    "kernelspec": {
      "name": "python3",
      "display_name": "Python 3"
    },
    "language_info": {
      "name": "python"
    },
    "accelerator": "GPU"
  },
  "cells": [
    {
      "cell_type": "markdown",
      "source": [
        "# **Less Images**"
      ],
      "metadata": {
        "id": "HvN0lpRK-SWK"
      }
    },
    {
      "cell_type": "code",
      "source": [
        "!pip install face_recognition"
      ],
      "metadata": {
        "colab": {
          "base_uri": "https://localhost:8080/"
        },
        "id": "hYVKyMjK76VD",
        "outputId": "d846d097-ac23-46e8-dd63-966ac78e6ba7"
      },
      "execution_count": null,
      "outputs": [
        {
          "output_type": "stream",
          "name": "stdout",
          "text": [
            "Collecting face_recognition\n",
            "  Downloading face_recognition-1.3.0-py2.py3-none-any.whl.metadata (21 kB)\n",
            "Collecting face-recognition-models>=0.3.0 (from face_recognition)\n",
            "  Downloading face_recognition_models-0.3.0.tar.gz (100.1 MB)\n",
            "\u001b[2K     \u001b[90m━━━━━━━━━━━━━━━━━━━━━━━━━━━━━━━━━━━━━━━━\u001b[0m \u001b[32m100.1/100.1 MB\u001b[0m \u001b[31m7.5 MB/s\u001b[0m eta \u001b[36m0:00:00\u001b[0m\n",
            "\u001b[?25h  Preparing metadata (setup.py) ... \u001b[?25l\u001b[?25hdone\n",
            "Requirement already satisfied: Click>=6.0 in /usr/local/lib/python3.10/dist-packages (from face_recognition) (8.1.7)\n",
            "Requirement already satisfied: dlib>=19.7 in /usr/local/lib/python3.10/dist-packages (from face_recognition) (19.24.2)\n",
            "Requirement already satisfied: numpy in /usr/local/lib/python3.10/dist-packages (from face_recognition) (1.26.4)\n",
            "Requirement already satisfied: Pillow in /usr/local/lib/python3.10/dist-packages (from face_recognition) (11.0.0)\n",
            "Downloading face_recognition-1.3.0-py2.py3-none-any.whl (15 kB)\n",
            "Building wheels for collected packages: face-recognition-models\n",
            "  Building wheel for face-recognition-models (setup.py) ... \u001b[?25l\u001b[?25hdone\n",
            "  Created wheel for face-recognition-models: filename=face_recognition_models-0.3.0-py2.py3-none-any.whl size=100566162 sha256=6bf5f68a7a37f4ea06653b84731ec9815a840f96863bb8a193e8dccdf105ee01\n",
            "  Stored in directory: /root/.cache/pip/wheels/7a/eb/cf/e9eced74122b679557f597bb7c8e4c739cfcac526db1fd523d\n",
            "Successfully built face-recognition-models\n",
            "Installing collected packages: face-recognition-models, face_recognition\n",
            "Successfully installed face-recognition-models-0.3.0 face_recognition-1.3.0\n"
          ]
        }
      ]
    },
    {
      "cell_type": "code",
      "source": [
        "import cv2\n",
        "import numpy as np\n",
        "import os\n",
        "import face_recognition\n",
        "from google.colab import drive\n",
        "import matplotlib.pyplot as plt\n",
        "\n",
        "# Mount Google Drive\n",
        "drive.mount('/content/drive')\n",
        "\n",
        "def load_images_from_folder(folder):\n",
        "    images = []\n",
        "    for filename in os.listdir(folder):\n",
        "        img_path = os.path.join(folder, filename)\n",
        "        img = cv2.imread(img_path)\n",
        "        if img is not None:\n",
        "            images.append((img, filename))\n",
        "    return images\n",
        "\n",
        "def encode_faces(images):\n",
        "    encodings = []\n",
        "    for img, filename in images:\n",
        "        rgb_img = cv2.cvtColor(img, cv2.COLOR_BGR2RGB)\n",
        "        boxes = face_recognition.face_locations(rgb_img, model='cnn')  # Using 'cnn' model for better accuracy\n",
        "        encodings.append((face_recognition.face_encodings(rgb_img, boxes), filename))\n",
        "    return encodings\n",
        "\n",
        "def find_matching_images(query_image_path, image_folder, tolerance=0.4):  # Adjust tolerance for accuracy\n",
        "    query_image = cv2.imread(query_image_path)\n",
        "    query_rgb = cv2.cvtColor(query_image, cv2.COLOR_BGR2RGB)\n",
        "    query_boxes = face_recognition.face_locations(query_rgb, model='cnn')\n",
        "    query_encoding = face_recognition.face_encodings(query_rgb, query_boxes)[0]\n",
        "\n",
        "    images = load_images_from_folder(image_folder)\n",
        "    encodings = encode_faces(images)\n",
        "\n",
        "    matching_images = []\n",
        "\n",
        "    for face_encodings, filename in encodings:\n",
        "        for face_encoding in face_encodings:\n",
        "            match = face_recognition.compare_faces([query_encoding], face_encoding, tolerance=tolerance)\n",
        "            if match[0]:\n",
        "                matching_images.append((filename, face_encoding))\n",
        "\n",
        "    return matching_images\n",
        "\n",
        "def display_matching_images(matching_images, image_folder):\n",
        "    for filename, _ in matching_images:\n",
        "        img_path = os.path.join(image_folder, filename)\n",
        "        img = cv2.imread(img_path)\n",
        "        rgb_img = cv2.cvtColor(img, cv2.COLOR_BGR2RGB)\n",
        "        plt.imshow(rgb_img)\n",
        "        plt.title(filename)\n",
        "        plt.axis('off')\n",
        "        plt.show()\n",
        "\n",
        "# Example usage\n",
        "query_image_path = \"/content/drive/MyDrive/Data/imgs/1719474511080.jpg\"\n",
        "image_folder = \"/content/drive/MyDrive/Data/imgs\"\n",
        "\n",
        "matching_images = find_matching_images(query_image_path, image_folder, tolerance=0.4)  # Adjust tolerance for accuracy\n",
        "print(\"Matching images:\", [filename for filename, _ in matching_images])\n",
        "\n",
        "# Display the matching images\n",
        "display_matching_images(matching_images, image_folder)\n"
      ],
      "metadata": {
        "id": "Y8Ecr4zZVkhl"
      },
      "execution_count": null,
      "outputs": []
    },
    {
      "cell_type": "code",
      "source": [
        "print(len(matching_images))"
      ],
      "metadata": {
        "colab": {
          "base_uri": "https://localhost:8080/"
        },
        "id": "LGw4lRUsxyLu",
        "outputId": "8ddcca3b-b267-4dc0-9be2-15e4f140f387"
      },
      "execution_count": null,
      "outputs": [
        {
          "output_type": "stream",
          "name": "stdout",
          "text": [
            "1\n"
          ]
        }
      ]
    },
    {
      "cell_type": "markdown",
      "source": [
        "# **Medium Images**"
      ],
      "metadata": {
        "id": "Xmymzmak-YRX"
      }
    },
    {
      "cell_type": "code",
      "source": [
        "pip install face_recognition opencv-python numpy\n"
      ],
      "metadata": {
        "colab": {
          "base_uri": "https://localhost:8080/"
        },
        "id": "I6mrhh4wx211",
        "outputId": "fca36c5c-d7b1-4a84-d8b3-5533d5b05a94"
      },
      "execution_count": null,
      "outputs": [
        {
          "output_type": "stream",
          "name": "stdout",
          "text": [
            "Requirement already satisfied: face_recognition in /usr/local/lib/python3.10/dist-packages (1.3.0)\n",
            "Requirement already satisfied: opencv-python in /usr/local/lib/python3.10/dist-packages (4.10.0.84)\n",
            "Requirement already satisfied: numpy in /usr/local/lib/python3.10/dist-packages (1.26.4)\n",
            "Requirement already satisfied: face-recognition-models>=0.3.0 in /usr/local/lib/python3.10/dist-packages (from face_recognition) (0.3.0)\n",
            "Requirement already satisfied: Click>=6.0 in /usr/local/lib/python3.10/dist-packages (from face_recognition) (8.1.7)\n",
            "Requirement already satisfied: dlib>=19.7 in /usr/local/lib/python3.10/dist-packages (from face_recognition) (19.24.2)\n",
            "Requirement already satisfied: Pillow in /usr/local/lib/python3.10/dist-packages (from face_recognition) (10.4.0)\n"
          ]
        }
      ]
    },
    {
      "cell_type": "code",
      "source": [
        "#More Accuracy\n",
        "\n",
        "import cv2\n",
        "import numpy as np\n",
        "import os\n",
        "import face_recognition\n",
        "from google.colab import drive\n",
        "import matplotlib.pyplot as plt\n",
        "\n",
        "# Mount Google Drive\n",
        "drive.mount('/content/drive')\n",
        "\n",
        "def load_images_from_folder(folder):\n",
        "    images = []\n",
        "    for filename in os.listdir(folder):\n",
        "        img_path = os.path.join(folder, filename)\n",
        "        img = cv2.imread(img_path)\n",
        "        if img is not None:\n",
        "            images.append((img, filename))\n",
        "    return images\n",
        "\n",
        "def encode_faces(images):\n",
        "    encodings = []\n",
        "    for img, filename in images:\n",
        "        rgb_img = cv2.cvtColor(img, cv2.COLOR_BGR2RGB)\n",
        "        boxes = face_recognition.face_locations(rgb_img, model='cnn')  # Using 'cnn' model for better accuracy\n",
        "        encodings.append((face_recognition.face_encodings(rgb_img, boxes), filename))\n",
        "    return encodings\n",
        "\n",
        "def find_matching_images(query_image_path, image_folder, tolerance=0.4):  # Adjust tolerance for accuracy\n",
        "    query_image = cv2.imread(query_image_path)\n",
        "    query_rgb = cv2.cvtColor(query_image, cv2.COLOR_BGR2RGB)\n",
        "    query_boxes = face_recognition.face_locations(query_rgb, model='cnn')\n",
        "    query_encoding = face_recognition.face_encodings(query_rgb, query_boxes)[0]\n",
        "\n",
        "    images = load_images_from_folder(image_folder)\n",
        "    encodings = encode_faces(images)\n",
        "\n",
        "    matching_images = []\n",
        "\n",
        "    for face_encodings, filename in encodings:\n",
        "        for face_encoding in face_encodings:\n",
        "            match = face_recognition.compare_faces([query_encoding], face_encoding, tolerance=tolerance)\n",
        "            if match[0]:\n",
        "                matching_images.append((filename, face_encoding))\n",
        "\n",
        "    return matching_images\n",
        "\n",
        "def display_matching_images(matching_images, image_folder):\n",
        "    for filename, _ in matching_images:\n",
        "        img_path = os.path.join(image_folder, filename)\n",
        "        img = cv2.imread(img_path)\n",
        "        rgb_img = cv2.cvtColor(img, cv2.COLOR_BGR2RGB)\n",
        "        plt.imshow(rgb_img)\n",
        "        plt.title(filename)\n",
        "        plt.axis('off')\n",
        "        plt.show()\n",
        "\n",
        "def save_matching_images(matching_images, image_folder, save_folder):\n",
        "    if not os.path.exists(save_folder):\n",
        "        os.makedirs(save_folder)\n",
        "\n",
        "    for filename, _ in matching_images:\n",
        "        img_path = os.path.join(image_folder, filename)\n",
        "        img = cv2.imread(img_path)\n",
        "        save_path = os.path.join(save_folder, filename)\n",
        "        cv2.imwrite(save_path, img)\n",
        "        #print(f\"Saved {filename} to {save_folder}\")\n",
        "\n",
        "# Example usage\n",
        "query_image_path = \"/content/drive/MyDrive/Data/imgs/1719474511050.jpg\" #Enter the query image that you want to extract from the large source\n",
        "image_folder = \"/content/drive/MyDrive/Data/imgs\"\n",
        "\n",
        "matching_images = find_matching_images(query_image_path, image_folder, tolerance=0.4)  # Adjust tolerance for accuracy\n",
        "print(\"Matching images:\", [filename for filename, _ in matching_images])\n",
        "\n",
        "# Display the matching images\n",
        "display_matching_images(matching_images, image_folder)\n",
        "\n",
        "save_folder = input(\"Enter the name of the folder to save the matched images: \")\n",
        "save_folder_path = os.path.join(\"/content/drive/MyDrive/Data\", save_folder)\n",
        "\n",
        "# Save the matched images\n",
        "save_matching_images(matching_images, image_folder, save_folder_path)\n",
        "print(\"Folder Created!😉\")"
      ],
      "metadata": {
        "id": "u_EeiXe9xMfN"
      },
      "execution_count": null,
      "outputs": []
    },
    {
      "cell_type": "markdown",
      "source": [
        "# **All Images**"
      ],
      "metadata": {
        "id": "pa77iCZQ-sV2"
      }
    },
    {
      "cell_type": "code",
      "source": [
        "\n",
        "\n",
        "import cv2\n",
        "import numpy as np\n",
        "import os\n",
        "import face_recognition\n",
        "from google.colab import drive\n",
        "import matplotlib.pyplot as plt\n",
        "\n",
        "# Mount Google Drive\n",
        "drive.mount('/content/drive')\n",
        "\n",
        "def load_images_from_folder(folder):\n",
        "    images = []\n",
        "    for filename in os.listdir(folder):\n",
        "        img_path = os.path.join(folder, filename)\n",
        "        img = cv2.imread(img_path)\n",
        "        if img is not None:\n",
        "            images.append((img, filename))\n",
        "    return images\n",
        "\n",
        "def encode_faces(images):\n",
        "    encodings = []\n",
        "    for img, filename in images:\n",
        "        rgb_img = cv2.cvtColor(img, cv2.COLOR_BGR2RGB)\n",
        "        boxes = face_recognition.face_locations(rgb_img, model='hog')  # Using 'hog' model for faster processing\n",
        "        if boxes:  # Check if faces are detected\n",
        "            encodings.append((face_recognition.face_encodings(rgb_img, boxes), filename))\n",
        "    return encodings\n",
        "\n",
        "def find_matching_images(query_image_path, image_folder, tolerance=0.6):  # Increased tolerance for less strict matching\n",
        "    query_image = cv2.imread(query_image_path)\n",
        "    query_rgb = cv2.cvtColor(query_image, cv2.COLOR_BGR2RGB)\n",
        "    query_boxes = face_recognition.face_locations(query_rgb, model='hog')\n",
        "    if not query_boxes:\n",
        "        print(\"No face found in the query image.\")\n",
        "        return []\n",
        "    query_encoding = face_recognition.face_encodings(query_rgb, query_boxes)[0]\n",
        "\n",
        "    images = load_images_from_folder(image_folder)\n",
        "    encodings = encode_faces(images)\n",
        "\n",
        "    matching_images = []\n",
        "\n",
        "    for face_encodings, filename in encodings:\n",
        "        for face_encoding in face_encodings:\n",
        "            match = face_recognition.compare_faces([query_encoding], face_encoding, tolerance=tolerance)\n",
        "            if match[0]:\n",
        "                matching_images.append((filename, face_encoding))\n",
        "\n",
        "    return matching_images\n",
        "\n",
        "def display_matching_images(matching_images, image_folder):\n",
        "    for filename, _ in matching_images:\n",
        "        img_path = os.path.join(image_folder, filename)\n",
        "        img = cv2.imread(img_path)\n",
        "        rgb_img = cv2.cvtColor(img, cv2.COLOR_BGR2RGB)\n",
        "        plt.imshow(rgb_img)\n",
        "        plt.title(filename)\n",
        "        plt.axis('off')\n",
        "        plt.show()\n",
        "\n",
        "def save_matching_images(matching_images, image_folder, save_folder):\n",
        "    if not os.path.exists(save_folder):\n",
        "        os.makedirs(save_folder)\n",
        "\n",
        "    for filename, _ in matching_images:\n",
        "        img_path = os.path.join(image_folder, filename)\n",
        "        img = cv2.imread(img_path)\n",
        "        save_path = os.path.join(save_folder, filename)\n",
        "        cv2.imwrite(save_path, img)\n",
        "        #print(f\"Saved {filename} to {save_folder}\")\n",
        "\n",
        "# Example usage\n",
        "query_image_path = \"/content/drive/MyDrive/Data/imgs/1719474511050.jpg\"\n",
        "image_folder = \"/content/drive/MyDrive/Data/imgs\"\n",
        "\n",
        "matching_images = find_matching_images(query_image_path, image_folder, tolerance=0.6)  # Increased tolerance for less strict matching\n",
        "print(\"Matching images:\", [filename for filename, _ in matching_images])\n",
        "\n",
        "# Display the matching images\n",
        "display_matching_images(matching_images, image_folder)\n",
        "save_folder = input(\"Enter the name of the folder to save the matched images: \")\n",
        "save_folder_path = os.path.join(\"/content/drive/MyDrive/Data\", save_folder)\n",
        "\n",
        "# Save the matched images\n",
        "save_matching_images(matching_images, image_folder, save_folder_path)\n",
        "print(\"Folder Created!😉\")\n"
      ],
      "metadata": {
        "id": "-Zp81RBj4sPm",
        "collapsed": true
      },
      "execution_count": null,
      "outputs": []
    }
  ]
}